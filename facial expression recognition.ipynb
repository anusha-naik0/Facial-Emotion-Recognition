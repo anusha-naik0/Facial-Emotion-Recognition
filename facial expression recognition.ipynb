{
 "cells": [
  {
   "cell_type": "code",
   "execution_count": 2,
   "id": "33b4fa91",
   "metadata": {},
   "outputs": [
    {
     "name": "stderr",
     "output_type": "stream",
     "text": [
      "fatal: destination path 'facial_expressions' already exists and is not an empty directory.\n"
     ]
    }
   ],
   "source": [
    "!git clone https://github.com/muxspace/facial_expressions.git"
   ]
  },
  {
   "cell_type": "code",
   "execution_count": 1,
   "id": "8f629d85",
   "metadata": {},
   "outputs": [],
   "source": [
    "import csv\n",
    "# dictionary with key value pair\n",
    "# key is string name og emotion\n",
    "# value is array of image names\n",
    "data = {}\n",
    "\n",
    "with open('D:/Coding Ninjas Data Science and Machine Learning/Milestone6/12. Facial Emotions Recognition/facial_expressions/data/legend.csv') as f:\n",
    "    reader = csv.reader(f)\n",
    "    next(reader)   #skip first row\n",
    "    for row in reader:\n",
    "        key = row[2].lower()\n",
    "        if key in data:\n",
    "            data[key].append(row[1])\n",
    "        else:\n",
    "            data[key] = [row[1]]"
   ]
  },
  {
   "cell_type": "code",
   "execution_count": 4,
   "id": "2e219d40",
   "metadata": {},
   "outputs": [],
   "source": [
    "### generating directory structure"
   ]
  },
  {
   "cell_type": "code",
   "execution_count": 5,
   "id": "41e0784c",
   "metadata": {},
   "outputs": [],
   "source": [
    "## image data generator class from keras\n",
    "# to do image data generator it requires data to be organized in particular format\n",
    "# master_data that has test and train folders\n",
    "# in train it should have folders for all categories of data(happy, sad, neutral....)\n",
    "# in happy folder there should be particular images jpg\n",
    "# same for test also"
   ]
  },
  {
   "cell_type": "code",
   "execution_count": 2,
   "id": "d7a11d1e",
   "metadata": {},
   "outputs": [
    {
     "data": {
      "text/plain": [
       "['anger',\n",
       " 'surprise',\n",
       " 'disgust',\n",
       " 'fear',\n",
       " 'neutral',\n",
       " 'happiness',\n",
       " 'sadness',\n",
       " 'contempt']"
      ]
     },
     "execution_count": 2,
     "metadata": {},
     "output_type": "execute_result"
    }
   ],
   "source": [
    "emotion_list = list(data.keys())\n",
    "emotion_list"
   ]
  },
  {
   "cell_type": "code",
   "execution_count": 7,
   "id": "eb23db02",
   "metadata": {
    "collapsed": true
   },
   "outputs": [
    {
     "ename": "FileExistsError",
     "evalue": "[WinError 183] Cannot create a file when that file already exists: 'master_data'",
     "output_type": "error",
     "traceback": [
      "\u001b[1;31m---------------------------------------------------------------------------\u001b[0m",
      "\u001b[1;31mFileExistsError\u001b[0m                           Traceback (most recent call last)",
      "Cell \u001b[1;32mIn[7], line 3\u001b[0m\n\u001b[0;32m      1\u001b[0m \u001b[38;5;66;03m## making directories\u001b[39;00m\n\u001b[0;32m      2\u001b[0m \u001b[38;5;28;01mimport\u001b[39;00m \u001b[38;5;21;01mos\u001b[39;00m\n\u001b[1;32m----> 3\u001b[0m \u001b[43mos\u001b[49m\u001b[38;5;241;43m.\u001b[39;49m\u001b[43mmkdir\u001b[49m\u001b[43m(\u001b[49m\u001b[38;5;124;43m'\u001b[39;49m\u001b[38;5;124;43mmaster_data\u001b[39;49m\u001b[38;5;124;43m'\u001b[39;49m\u001b[43m)\u001b[49m\n\u001b[0;32m      4\u001b[0m os\u001b[38;5;241m.\u001b[39mmkdir(\u001b[38;5;124m'\u001b[39m\u001b[38;5;124mmaster_data/training\u001b[39m\u001b[38;5;124m'\u001b[39m)\n\u001b[0;32m      5\u001b[0m os\u001b[38;5;241m.\u001b[39mmkdir(\u001b[38;5;124m'\u001b[39m\u001b[38;5;124mmaster_data/testing\u001b[39m\u001b[38;5;124m'\u001b[39m)\n",
      "\u001b[1;31mFileExistsError\u001b[0m: [WinError 183] Cannot create a file when that file already exists: 'master_data'"
     ]
    }
   ],
   "source": [
    "## making directories\n",
    "import os\n",
    "os.mkdir('master_data')\n",
    "os.mkdir('master_data/training')\n",
    "os.mkdir('master_data/testing')"
   ]
  },
  {
   "cell_type": "code",
   "execution_count": 10,
   "id": "82c4ba08",
   "metadata": {},
   "outputs": [],
   "source": [
    "# making sub directory for each emotion in testing and training\n",
    "for emotion in emotion_list:\n",
    "    os.mkdir(os.path.join('master_data/training', emotion))\n",
    "    os.mkdir(os.path.join('master_data/testing', emotion))"
   ]
  },
  {
   "cell_type": "code",
   "execution_count": null,
   "id": "44de0cc9",
   "metadata": {},
   "outputs": [],
   "source": [
    "!pip install pytest-shutil"
   ]
  },
  {
   "cell_type": "code",
   "execution_count": 11,
   "id": "21c885a6",
   "metadata": {},
   "outputs": [],
   "source": [
    "## to fill these directories from images directory in facial_expressions to respective ones\n",
    "from shutil import copyfile\n",
    "split_size = 0.8    #80:20 ratio\n",
    "\n",
    "for emotion, images in data.items():\n",
    "    # for each emotion split images inside in 8:2 ratio\n",
    "    train_size = int(split_size*len(images))\n",
    "    train_images = images[:train_size]\n",
    "    test_images = images[train_size:]\n",
    "    \n",
    "    #D:/Coding Ninjas Data Science and Machine Learning/Milestone6/12. Facial Emotions Recognition/facial_expressions/data/legend.csv\n",
    "    for image in train_images:\n",
    "        source = os.path.join('D:/Coding Ninjas Data Science and Machine Learning/Milestone6/12. Facial Emotions Recognition/facial_expressions/images', image)\n",
    "        dest = os.path.join('D:/Coding Ninjas Data Science and Machine Learning/Milestone6/12. Facial Emotions Recognition/master_data/training', emotion, image)\n",
    "        copyfile(source, dest)\n",
    "    for image in test_images:\n",
    "        source = os.path.join('D:/Coding Ninjas Data Science and Machine Learning/Milestone6/12. Facial Emotions Recognition/facial_expressions/images', image)\n",
    "        dest = os.path.join('D:/Coding Ninjas Data Science and Machine Learning/Milestone6/12. Facial Emotions Recognition/master_data/testing', emotion, image)\n",
    "        copyfile(source, dest)"
   ]
  },
  {
   "cell_type": "code",
   "execution_count": 3,
   "id": "b1315fd4",
   "metadata": {},
   "outputs": [],
   "source": [
    "##### ImageDataGenerator class images shld be in array form and lables shld be one hot encoded\n",
    "### ImageDataGenerator is used for data augmentation rotation, scaling, shifting, fliping\n",
    "import tensorflow as tf\n",
    "from tensorflow.keras.preprocessing.image import ImageDataGenerator\n",
    "from tensorflow.keras.optimizers import Adam\n",
    "from tensorflow.keras.callbacks import EarlyStopping\n",
    "from tensorflow.keras.layers import Conv2D, MaxPooling2D, Dense, Flatten"
   ]
  },
  {
   "cell_type": "code",
   "execution_count": 8,
   "id": "3e0d6de7",
   "metadata": {},
   "outputs": [
    {
     "name": "stderr",
     "output_type": "stream",
     "text": [
      "WARNING:absl:`lr` is deprecated in Keras optimizer, please use `learning_rate` or use the legacy optimizer, e.g.,tf.keras.optimizers.legacy.Adam.\n"
     ]
    },
    {
     "name": "stdout",
     "output_type": "stream",
     "text": [
      "Model: \"sequential_1\"\n",
      "_________________________________________________________________\n",
      " Layer (type)                Output Shape              Param #   \n",
      "=================================================================\n",
      " conv2d_3 (Conv2D)           (None, 98, 98, 16)        448       \n",
      "                                                                 \n",
      " max_pooling2d_3 (MaxPooling  (None, 49, 49, 16)       0         \n",
      " 2D)                                                             \n",
      "                                                                 \n",
      " conv2d_4 (Conv2D)           (None, 47, 47, 32)        4640      \n",
      "                                                                 \n",
      " max_pooling2d_4 (MaxPooling  (None, 23, 23, 32)       0         \n",
      " 2D)                                                             \n",
      "                                                                 \n",
      " conv2d_5 (Conv2D)           (None, 21, 21, 64)        18496     \n",
      "                                                                 \n",
      " max_pooling2d_5 (MaxPooling  (None, 10, 10, 64)       0         \n",
      " 2D)                                                             \n",
      "                                                                 \n",
      " flatten_1 (Flatten)         (None, 6400)              0         \n",
      "                                                                 \n",
      " dense_2 (Dense)             (None, 1024)              6554624   \n",
      "                                                                 \n",
      " dense_3 (Dense)             (None, 8)                 8200      \n",
      "                                                                 \n",
      "=================================================================\n",
      "Total params: 6,586,408\n",
      "Trainable params: 6,586,408\n",
      "Non-trainable params: 0\n",
      "_________________________________________________________________\n"
     ]
    }
   ],
   "source": [
    "model = tf.keras.models.Sequential([\n",
    "    Conv2D(16, (3,3), activation='relu', input_shape=(100,100,3)),\n",
    "    MaxPooling2D(2,2),\n",
    "    Conv2D(32, (3,3), activation='relu'),\n",
    "    MaxPooling2D(2,2),\n",
    "    Conv2D(64, (3,3), activation='relu'),\n",
    "    MaxPooling2D(2,2),\n",
    "    Flatten(),\n",
    "    Dense(1024, activation='relu'),\n",
    "    Dense(8, activation='softmax')      # last layer i.e output is 8 cuz it has 8 classes\n",
    "])\n",
    "model.compile(optimizer=Adam(lr=0.01), loss='categorical_crossentropy', metrics=['acc'])\n",
    "model.summary()"
   ]
  },
  {
   "cell_type": "code",
   "execution_count": 15,
   "id": "a1742f60",
   "metadata": {},
   "outputs": [],
   "source": [
    "#### train and test model"
   ]
  },
  {
   "cell_type": "code",
   "execution_count": 9,
   "id": "18684c73",
   "metadata": {},
   "outputs": [
    {
     "name": "stdout",
     "output_type": "stream",
     "text": [
      "Found 10941 images belonging to 8 classes.\n",
      "Found 2742 images belonging to 8 classes.\n"
     ]
    }
   ],
   "source": [
    "train_dir = 'D:/Coding Ninjas Data Science and Machine Learning/Milestone6/12. Facial Emotions Recognition/master_data/training'\n",
    "test_dir = 'D:/Coding Ninjas Data Science and Machine Learning/Milestone6/12. Facial Emotions Recognition/master_data/testing'\n",
    "\n",
    "train_datagen = ImageDataGenerator(rescale=1.0/255)\n",
    "train_generator = train_datagen.flow_from_directory(\n",
    "                                                    train_dir,\n",
    "                                                    target_size = (100,100),\n",
    "                                                    class_mode = 'categorical',\n",
    "                                                    batch_size = 128\n",
    "                                                    )\n",
    "\n",
    "test_datagen = ImageDataGenerator(rescale=1.0/255)\n",
    "test_generator = test_datagen.flow_from_directory(\n",
    "                                                    test_dir,\n",
    "                                                    target_size = (100,100),\n",
    "                                                    class_mode = 'categorical',\n",
    "                                                    batch_size = 128\n",
    "                                                    )"
   ]
  },
  {
   "cell_type": "code",
   "execution_count": 10,
   "id": "b5af761f",
   "metadata": {},
   "outputs": [],
   "source": [
    "### early stopping callback\n",
    "es = EarlyStopping(monitor='val_acc', patience=2, min_delta=0.01)"
   ]
  },
  {
   "cell_type": "code",
   "execution_count": null,
   "id": "73a63c98",
   "metadata": {},
   "outputs": [
    {
     "name": "stderr",
     "output_type": "stream",
     "text": [
      "C:\\Users\\anush\\AppData\\Local\\Temp\\ipykernel_5012\\2437270454.py:1: UserWarning: `Model.fit_generator` is deprecated and will be removed in a future version. Please use `Model.fit`, which supports generators.\n",
      "  model.fit_generator(train_generator,\n"
     ]
    },
    {
     "name": "stdout",
     "output_type": "stream",
     "text": [
      "Epoch 1/10\n",
      "86/86 [==============================] - 277s 3s/step - loss: 0.9204 - acc: 0.6070 - val_loss: 1.7070 - val_acc: 0.6116\n",
      "Epoch 2/10\n",
      "86/86 [==============================] - 47s 546ms/step - loss: 0.5977 - acc: 0.7950 - val_loss: 1.8929 - val_acc: 0.6572\n",
      "Epoch 3/10\n",
      "86/86 [==============================] - 48s 552ms/step - loss: 0.4939 - acc: 0.8279 - val_loss: 1.7804 - val_acc: 0.6678\n",
      "Epoch 4/10\n",
      "86/86 [==============================] - 45s 522ms/step - loss: 0.4560 - acc: 0.8447 - val_loss: 1.6921 - val_acc: 0.6692\n",
      "Epoch 5/10\n",
      "86/86 [==============================] - 46s 536ms/step - loss: 0.4181 - acc: 0.8549 - val_loss: 1.9297 - val_acc: 0.6765\n",
      "Epoch 6/10\n",
      "86/86 [==============================] - 44s 509ms/step - loss: 0.3832 - acc: 0.8639 - val_loss: 2.4231 - val_acc: 0.6740\n",
      "Epoch 7/10\n",
      "86/86 [==============================] - 45s 526ms/step - loss: 0.3468 - acc: 0.8797 - val_loss: 2.0801 - val_acc: 0.6659\n",
      "Epoch 8/10\n",
      "86/86 [==============================] - 44s 515ms/step - loss: 0.3123 - acc: 0.8899 - val_loss: 2.6791 - val_acc: 0.6736\n",
      "Epoch 9/10\n",
      "86/86 [==============================] - 44s 510ms/step - loss: 0.2836 - acc: 0.8955 - val_loss: 2.8656 - val_acc: 0.6783\n",
      "Epoch 10/10\n",
      "32/86 [==========>...................] - ETA: 25s - loss: 0.2373 - acc: 0.9141"
     ]
    }
   ],
   "source": [
    "model.fit_generator(train_generator,\n",
    "                    epochs = 10,\n",
    "                    verbose=1,\n",
    "                    validation_data=test_generator,\n",
    "                    )"
   ]
  },
  {
   "cell_type": "code",
   "execution_count": null,
   "id": "31f6ecbf",
   "metadata": {},
   "outputs": [],
   "source": []
  }
 ],
 "metadata": {
  "kernelspec": {
   "display_name": "Python 3 (ipykernel)",
   "language": "python",
   "name": "python3"
  },
  "language_info": {
   "codemirror_mode": {
    "name": "ipython",
    "version": 3
   },
   "file_extension": ".py",
   "mimetype": "text/x-python",
   "name": "python",
   "nbconvert_exporter": "python",
   "pygments_lexer": "ipython3",
   "version": "3.11.0"
  }
 },
 "nbformat": 4,
 "nbformat_minor": 5
}
